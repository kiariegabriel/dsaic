{
 "cells": [
  {
   "cell_type": "markdown",
   "id": "ffea22ca",
   "metadata": {},
   "source": [
    "# What is classification?\n",
    "\n",
    "Classification is a prediction problem of approximating a mapping fuction (f) from input variables (**X**) to **discrete** output variables (**y**). In classification, we have defined classes to which we intend to map our features to."
   ]
  },
  {
   "cell_type": "code",
   "execution_count": null,
   "id": "61201444",
   "metadata": {},
   "outputs": [],
   "source": [
    "#import necessary libraries\n",
    "import random\n",
    "import warnings\n",
    "import numpy as np\n",
    "import pandas as pd\n",
    "from matplotlib import style\n",
    "from collections import Counter\n",
    "import matplotlib.pyplot as plt\n",
    "from sklearn import preprocessing, neighbors\n",
    "from sklearn.model_selection import train_test_split"
   ]
  },
  {
   "cell_type": "markdown",
   "id": "f43bcb03",
   "metadata": {},
   "source": [
    "## KNN from scratch\n",
    "The principle behind KNN is computing distance between points in order to classify them on the basis of their closeness.\n",
    "\n",
    "One metric of distance measure is the Euclidean distance. Given two points *a* and *b* of *N* dimension, the Euclidean distance between the two points is given by:\n",
    "\n",
    "$\\sqrt{\\sum_{i=1}^{N} (a_i-b_i)^2}$\n"
   ]
  },
  {
   "cell_type": "code",
   "execution_count": null,
   "id": "abaa9bbe",
   "metadata": {},
   "outputs": [],
   "source": [
    "#compute euclidean distance between two points\n",
    "a, b = [1, 3], [2, 5]\n",
    "\n",
    "euc_d = np.sqrt( (a[0] - b[0]) ** 2 + (a[1] - b[1]) ** 2)\n",
    "euc_d"
   ]
  },
  {
   "cell_type": "code",
   "execution_count": null,
   "id": "9fcb2ce5",
   "metadata": {},
   "outputs": [],
   "source": [
    "dataset = {'green' : [[1, 2], [2, 3], [3, 1]], 'red' : [[6, 5], [7, 7], [8, 6]]}\n",
    "new_features = [5, 7]\n",
    "\n",
    "[[plt.scatter(ii[0], ii[1], s=100, color=i[0]) for ii in dataset[i]] for i in dataset]\n",
    "#plt.scatter(new_features[0], new_features[1], color='b', s=100 )\n",
    "plt.show()"
   ]
  },
  {
   "cell_type": "code",
   "execution_count": null,
   "id": "0b1671c7",
   "metadata": {},
   "outputs": [],
   "source": [
    "# let's perform a simple knn classification on the data\n",
    "\n",
    "def k_nearest_neighbors(data, test_data, k=3):\n",
    "    if len(data) >= k:\n",
    "        warnings.warn('k is set to a value less than total voting groups!')\n",
    "        \n",
    "    distances = []\n",
    "    # compute euclidean distance between the test point and all data points in the dataset\n",
    "    for group in data:\n",
    "        for features in data[group]:\n",
    "            euc_d = np.linalg.norm(np.array(features) - np.array(test_data))\n",
    "            distances.append([euc_d, group])\n",
    "            \n",
    "    votes = [i[1] for i in sorted(distances)[: k]]  #pick the least k groups with the least distances\n",
    "    vote_result = Counter(votes).most_common(1)[0][0] #pick the most common group\n",
    "    \n",
    "    return vote_result\n",
    "\n",
    "result = k_nearest_neighbors(dataset, new_features, k=3)\n",
    "print(result)"
   ]
  },
  {
   "cell_type": "code",
   "execution_count": null,
   "id": "d1bbb93e",
   "metadata": {},
   "outputs": [],
   "source": [
    "#load Wisconsin breast cancer data\n",
    "df  = pd.read_csv('data/breast-cancer-wisconsin.data') \n",
    "df.head()"
   ]
  },
  {
   "cell_type": "code",
   "execution_count": null,
   "id": "eb3c5c5e",
   "metadata": {},
   "outputs": [],
   "source": [
    "#replace missing data with an abitrary huge or small number\n",
    "df.replace('?', -99999, inplace=True) \n",
    "\n",
    "#df.dropna(inplace=True)"
   ]
  },
  {
   "cell_type": "code",
   "execution_count": null,
   "id": "581f20b0",
   "metadata": {},
   "outputs": [],
   "source": [
    "#drop 'useless' data\n",
    "df.drop(['id'], 1, inplace=True) \n",
    "df.head()"
   ]
  },
  {
   "cell_type": "code",
   "execution_count": null,
   "id": "ce2f56a1",
   "metadata": {},
   "outputs": [],
   "source": [
    "# convert strings to float\n",
    "full_data = df.values.tolist()\n",
    "full_data[: 10]\n",
    "\n",
    "full_data = df.astype(float).values.tolist()\n",
    "full_data[:10]"
   ]
  },
  {
   "cell_type": "code",
   "execution_count": null,
   "id": "6198eafd",
   "metadata": {},
   "outputs": [],
   "source": [
    "# shuffle the data\n",
    "random.shuffle(full_data)"
   ]
  },
  {
   "cell_type": "code",
   "execution_count": null,
   "id": "8a1177c8",
   "metadata": {},
   "outputs": [],
   "source": [
    "test_size = 0.2\n",
    "\n",
    "# create dictionaries for train and test data with classes as the keys\n",
    "train_set = {2: [], 4: []}\n",
    "test_set = {2: [], 4: []}\n",
    "\n",
    "#split data into train and test data\n",
    "train_data = full_data[: -int(test_size * len(full_data))]\n",
    "test_data = full_data[-int(test_size * len(full_data)) : ]\n",
    "\n",
    "for i in train_data:\n",
    "    train_set[i[-1]].append(i[:-1])\n",
    "    \n",
    "for i in test_data:\n",
    "    test_set[i[-1]].append(i[:-1])"
   ]
  },
  {
   "cell_type": "code",
   "execution_count": null,
   "id": "011e2882",
   "metadata": {},
   "outputs": [],
   "source": [
    "# let's test the model with our data\n",
    "\n",
    "correct = 0\n",
    "total = 0\n",
    "\n",
    "for group in test_set:\n",
    "    for data in test_set[group]:\n",
    "        vote = k_nearest_neighbors(train_set, data, k=5)\n",
    "        if group == vote:\n",
    "            correct += 1\n",
    "        total += 1\n",
    "        \n",
    "accuracy = correct / total  \n",
    "print('Accuracy: ', accuracy)\n",
    "        "
   ]
  },
  {
   "cell_type": "code",
   "execution_count": null,
   "id": "a9866811",
   "metadata": {},
   "outputs": [],
   "source": [
    "# split the data into features, X, and targets, y.\n",
    "\n",
    "X = np.array(df.drop(['class'], 1))\n",
    "y = np.array(df['class'])\n",
    "\n",
    "# split data into training and validation data\n",
    "X_train, X_test, y_train, y_test = train_test_split(X, y, test_size=0.2, random_state=42)"
   ]
  },
  {
   "cell_type": "code",
   "execution_count": null,
   "id": "42c1cdc9",
   "metadata": {},
   "outputs": [],
   "source": [
    "# define classifier\n",
    "clf = neighbors.KNeighborsClassifier()\n",
    "clf.fit(X_train, y_train)\n",
    "\n",
    "# test the model on the test data and output accuracy\n",
    "accuracy = clf.score(X_test, y_test)\n",
    "print('Accuracy: ', accuracy)"
   ]
  }
 ],
 "metadata": {
  "kernelspec": {
   "display_name": "Python 3",
   "language": "python",
   "name": "python3"
  },
  "language_info": {
   "codemirror_mode": {
    "name": "ipython",
    "version": 3
   },
   "file_extension": ".py",
   "mimetype": "text/x-python",
   "name": "python",
   "nbconvert_exporter": "python",
   "pygments_lexer": "ipython3",
   "version": "3.8.7"
  }
 },
 "nbformat": 4,
 "nbformat_minor": 5
}
