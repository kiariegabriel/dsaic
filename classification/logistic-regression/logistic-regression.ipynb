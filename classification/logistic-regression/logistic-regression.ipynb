{
 "cells": [
  {
   "cell_type": "markdown",
   "id": "da3d9a12",
   "metadata": {},
   "source": [
    "# Logistic Regression\n",
    "\n",
    "Logistic regression is probabilistic method of classification (despite the word regression in the name). \n",
    "\n",
    "The goal of classification is to take an input vector **x<sub>i</sub>** and assign it to one of  *K* discrete classes **C<sub>k</sub>** where *k=1, ..., K*.\n",
    "\n",
    "For probabilistic models, in case *$K=2$* (binary classification), $\\mathbf{t}\\in \\mathbf{\\{0,1\\}}$ such that $t=1$ represents C<sub>1</sub> and $t=0$ represents C<sub>2</sub>\n",
    "\n",
    "For *$K>2$* , it is convinient to use *1-of-K* coding scheme in which t is a vector of length *K* such that if the class is C<sub>j</sub>, then all elements **t<sub>k</sub>** of **t** are zero except t<sub>j</sub> which takes the value of 1 eg. if K=5 classes, then a pattern from class 2 will have a vector **t**=\\[0,1,0,0,0\\]\n",
    "\n",
    "In regression, we model linear expression $y(x)={W}{^T}x + w_0$ where **W** is weight vector and w<sub>0</sub> is bias\n",
    "\n",
    "To transform the linear function to a discrete/ probabilistic function, we use a non linear function $f(·)$ i.e. $y(x)=f(W{^T}x+w_0)$. This function is called an activation function."
   ]
  },
  {
   "cell_type": "markdown",
   "id": "99d6461d",
   "metadata": {},
   "source": [
    "## Two classes (binary logistic regression)\n",
    "\n",
    "The simplest representation of linear discriminant function is given by $y(x)={W}{^T}x + w_0 = \\sum_{i=1}^{N}w_ix_i+w_0$ \n",
    "\n",
    "For binary logistic regression, we use a logistic sigmoid function $\\sigma(a_i)=\\frac{1}{1+e^{-a_i}}$\n",
    "\n",
    "\n",
    "\\begin{equation}\n",
    "y(x)=\\sigma(W{^T}x)=\\frac{1}{1+e^{{-W}{^T}x}}\n",
    "\\end{equation}"
   ]
  },
  {
   "cell_type": "code",
   "execution_count": null,
   "id": "7c13dffb",
   "metadata": {},
   "outputs": [],
   "source": [
    "import numpy as np\n",
    "import matplotlib.pyplot as plt"
   ]
  },
  {
   "cell_type": "code",
   "execution_count": null,
   "id": "f92c9065",
   "metadata": {},
   "outputs": [],
   "source": [
    "# plot the sigmoid function\n",
    "def sigmoid(a):\n",
    "    return 1/(1+np.exp(-a))\n",
    "\n",
    "x = np.linspace(-10, 10, 50)\n",
    "\n",
    "y = sigmoid(x)\n",
    "plt.plot(y)"
   ]
  },
  {
   "cell_type": "markdown",
   "id": "4398c729",
   "metadata": {},
   "source": [
    "## Loss function\n",
    "\n",
    "To train a logistic regression we learn the weights. We introduce the concept of loss function. We use cross entropy loss function.\n",
    "\n",
    "$L_i = -t_i\\log(y_i) - (1-t_i)\\log(1-y_i)$\n",
    "\n",
    "Where $y_i=\\sigma(\\mathbf{w}^T\\mathbf{x}_i)$\n",
    "\n",
    "To minimize the error, we obtain the gradient of the loss function w.r.t. **w** and we obtain\n",
    "\n",
    "  $\\nabla_{\\mathbf{w}}\\sum_iL_i=\\sum_{i=1}^{N}(y_i-t_i)x_i$.\n",
    "  \n",
    "  See a sample logistic regression from scratch in this [Repository](https://github.com/kiariegabriel/machine-learning/tree/master/logistic-regression)"
   ]
  }
 ],
 "metadata": {
  "kernelspec": {
   "display_name": "Python 3",
   "language": "python",
   "name": "python3"
  },
  "language_info": {
   "codemirror_mode": {
    "name": "ipython",
    "version": 3
   },
   "file_extension": ".py",
   "mimetype": "text/x-python",
   "name": "python",
   "nbconvert_exporter": "python",
   "pygments_lexer": "ipython3",
   "version": "3.8.7"
  }
 },
 "nbformat": 4,
 "nbformat_minor": 5
}
